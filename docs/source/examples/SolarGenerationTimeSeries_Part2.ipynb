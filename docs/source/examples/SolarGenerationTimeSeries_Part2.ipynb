{
 "cells": [
  {
   "cell_type": "markdown",
   "metadata": {},
   "source": [
    "# Modelling Solar generation across Multiple Sites - Part 2\n",
    "\n",
    "In [Part 1](SolarGenerationTimeSeries_Part1.ipynb), we have explored the SETIS PV generation dataset and built a powerful and performant model using \n",
    "`timeserio`'s `MultiModel` and datetime feature generation pipelines. In this part, we instead train an auto-regressive model using more advanced batch generator features.\n",
    "\n",
    "Remember the metrics our previous model achieved on the train/test split (without any parameter tuning):\n",
    "\n",
    "|&nbsp;| train | test |\n",
    "|---|---|---|\n",
    "| MSE | 0.0063 | 0.0068 |\n",
    "| MAE | 0.0401 | 0.0424 |\n",
    "\n",
    "In this notebook, we will build a simple model to create short-range predictions (between 1 and 2 hours ahead) based on recent history (say 6h)"
   ]
  },
  {
   "cell_type": "markdown",
   "metadata": {},
   "source": [
    "## Load the data from parquet"
   ]
  },
  {
   "cell_type": "code",
   "execution_count": 1,
   "metadata": {},
   "outputs": [],
   "source": [
    "import pandas as pd\n",
    "import matplotlib.pyplot as plt\n",
    "import seaborn as sns"
   ]
  },
  {
   "cell_type": "code",
   "execution_count": 2,
   "metadata": {},
   "outputs": [
    {
     "name": "stdout",
     "output_type": "stream",
     "text": [
      "CPU times: user 1.09 s, sys: 608 ms, total: 1.7 s\n",
      "Wall time: 449 ms\n"
     ]
    }
   ],
   "source": [
    "%%time\n",
    "df = pd.read_parquet(\"~/tmp/datasets/EMHIRESPV_TSh_CF_Country_19862015_tall.parquet\")"
   ]
  },
  {
   "cell_type": "code",
   "execution_count": 3,
   "metadata": {},
   "outputs": [],
   "source": [
    "plot_countries = ['ES', 'UK', 'FI', ]"
   ]
  },
  {
   "cell_type": "markdown",
   "metadata": {},
   "source": [
    "## Split into train-test sets"
   ]
  },
  {
   "cell_type": "code",
   "execution_count": 4,
   "metadata": {},
   "outputs": [
    {
     "data": {
      "text/plain": [
       "(2761080, 6442800)"
      ]
     },
     "execution_count": 4,
     "metadata": {},
     "output_type": "execute_result"
    }
   ],
   "source": [
    "df_dev = df.iloc[:100]\n",
    "df_train, df_test = df[df['Year'] < 1995], df[df['Year'] >= 1995]\n",
    "len(df_train), len(df_test)"
   ]
  },
  {
   "cell_type": "markdown",
   "metadata": {},
   "source": [
    "## Auto-regressive model\n",
    "\n",
    "In an auto-regressive model, we treat past values of the timeseries as input features to the forecasting model.\n",
    "While the functional form of the model is important, deep learning frameworks give us an easy way to try different approaches including CNNs, RNNs, etc.\n",
    "\n",
    "A key part remains however - we must be able to supply abundant training examples, each consisting of a window of consecutive values, the target, and (optinally) the time between the end of the window and the target (the \"forecast horizon\"). A long timeseries can be used to generate many examples simply by sampling the windows randomly from the original timeseries - in fact, for a realistic timeseries, pre-generating training examples in memory is prohibitively expensive. `timeserio` provides a way to generate sequence training examples on-demand from data held in memory, or even from datasets partitioned into multiple files."
   ]
  },
  {
   "cell_type": "code",
   "execution_count": 5,
   "metadata": {},
   "outputs": [
    {
     "name": "stderr",
     "output_type": "stream",
     "text": [
      "Using TensorFlow backend.\n"
     ]
    }
   ],
   "source": [
    "from timeserio.batches.chunked.pandas import SequenceForecastBatchGenerator\n",
    "\n",
    "batchgen_train = SequenceForecastBatchGenerator(\n",
    "    df=df_train, batch_size=2**15,\n",
    "    sequence_length=6,\n",
    "    sequence_columns=[\"generation\", \"Time_step\"],\n",
    "    last_step_columns=[\"Time_step\"],\n",
    "    forecast_steps_min=1,\n",
    "    forecast_steps_max=2,\n",
    "    batch_offset=True,\n",
    "    id_column=\"country\",\n",
    "    batch_aggregator=1\n",
    ")"
   ]
  },
  {
   "cell_type": "code",
   "execution_count": 6,
   "metadata": {},
   "outputs": [
    {
     "data": {
      "text/plain": [
       "35"
      ]
     },
     "execution_count": 6,
     "metadata": {},
     "output_type": "execute_result"
    }
   ],
   "source": [
    "len(batchgen_train)"
   ]
  },
  {
   "cell_type": "code",
   "execution_count": 7,
   "metadata": {},
   "outputs": [
    {
     "name": "stdout",
     "output_type": "stream",
     "text": [
      "CPU times: user 116 ms, sys: 4.71 ms, total: 121 ms\n",
      "Wall time: 119 ms\n"
     ]
    }
   ],
   "source": [
    "%%time\n",
    "batch = batchgen_train[0]"
   ]
  },
  {
   "cell_type": "code",
   "execution_count": 8,
   "metadata": {},
   "outputs": [
    {
     "data": {
      "text/html": [
       "<div>\n",
       "<style scoped>\n",
       "    .dataframe tbody tr th:only-of-type {\n",
       "        vertical-align: middle;\n",
       "    }\n",
       "\n",
       "    .dataframe tbody tr th {\n",
       "        vertical-align: top;\n",
       "    }\n",
       "\n",
       "    .dataframe thead tr th {\n",
       "        text-align: left;\n",
       "    }\n",
       "</style>\n",
       "<table border=\"1\" class=\"dataframe\">\n",
       "  <thead>\n",
       "    <tr>\n",
       "      <th></th>\n",
       "      <th>country</th>\n",
       "      <th>generation</th>\n",
       "      <th>Time_step</th>\n",
       "      <th colspan=\"6\" halign=\"left\">seq_generation</th>\n",
       "      <th colspan=\"6\" halign=\"left\">seq_Time_step</th>\n",
       "      <th>end_of_Time_step</th>\n",
       "    </tr>\n",
       "    <tr>\n",
       "      <th></th>\n",
       "      <th></th>\n",
       "      <th></th>\n",
       "      <th></th>\n",
       "      <th>0</th>\n",
       "      <th>1</th>\n",
       "      <th>2</th>\n",
       "      <th>3</th>\n",
       "      <th>4</th>\n",
       "      <th>5</th>\n",
       "      <th>0</th>\n",
       "      <th>1</th>\n",
       "      <th>2</th>\n",
       "      <th>3</th>\n",
       "      <th>4</th>\n",
       "      <th>5</th>\n",
       "      <th></th>\n",
       "    </tr>\n",
       "  </thead>\n",
       "  <tbody>\n",
       "    <tr>\n",
       "      <th>0</th>\n",
       "      <td>HU</td>\n",
       "      <td>0.070537</td>\n",
       "      <td>9</td>\n",
       "      <td>0.000000</td>\n",
       "      <td>0.000000</td>\n",
       "      <td>0.000000</td>\n",
       "      <td>0.000000</td>\n",
       "      <td>0.000000</td>\n",
       "      <td>0.030528</td>\n",
       "      <td>3</td>\n",
       "      <td>4</td>\n",
       "      <td>5</td>\n",
       "      <td>6</td>\n",
       "      <td>7</td>\n",
       "      <td>8</td>\n",
       "      <td>8</td>\n",
       "    </tr>\n",
       "    <tr>\n",
       "      <th>1</th>\n",
       "      <td>HU</td>\n",
       "      <td>0.084160</td>\n",
       "      <td>16</td>\n",
       "      <td>0.070537</td>\n",
       "      <td>0.078465</td>\n",
       "      <td>0.072669</td>\n",
       "      <td>0.082293</td>\n",
       "      <td>0.069379</td>\n",
       "      <td>0.062412</td>\n",
       "      <td>9</td>\n",
       "      <td>10</td>\n",
       "      <td>11</td>\n",
       "      <td>12</td>\n",
       "      <td>13</td>\n",
       "      <td>14</td>\n",
       "      <td>14</td>\n",
       "    </tr>\n",
       "  </tbody>\n",
       "</table>\n",
       "</div>"
      ],
      "text/plain": [
       "  country generation Time_step seq_generation                                \\\n",
       "                                            0         1         2         3   \n",
       "0      HU   0.070537         9       0.000000  0.000000  0.000000  0.000000   \n",
       "1      HU   0.084160        16       0.070537  0.078465  0.072669  0.082293   \n",
       "\n",
       "                      seq_Time_step                     end_of_Time_step  \n",
       "          4         5             0   1   2   3   4   5                   \n",
       "0  0.000000  0.030528             3   4   5   6   7   8                8  \n",
       "1  0.069379  0.062412             9  10  11  12  13  14               14  "
      ]
     },
     "execution_count": 8,
     "metadata": {},
     "output_type": "execute_result"
    }
   ],
   "source": [
    "batch.head(2)"
   ]
  },
  {
   "cell_type": "code",
   "execution_count": 9,
   "metadata": {},
   "outputs": [
    {
     "name": "stdout",
     "output_type": "stream",
     "text": [
      "CPU times: user 158 ms, sys: 3.54 ms, total: 162 ms\n",
      "Wall time: 161 ms\n"
     ]
    }
   ],
   "source": [
    "%%time\n",
    "batch = batchgen_train[-1]"
   ]
  },
  {
   "cell_type": "code",
   "execution_count": 10,
   "metadata": {},
   "outputs": [
    {
     "data": {
      "text/html": [
       "<div>\n",
       "<style scoped>\n",
       "    .dataframe tbody tr th:only-of-type {\n",
       "        vertical-align: middle;\n",
       "    }\n",
       "\n",
       "    .dataframe tbody tr th {\n",
       "        vertical-align: top;\n",
       "    }\n",
       "\n",
       "    .dataframe thead tr th {\n",
       "        text-align: left;\n",
       "    }\n",
       "</style>\n",
       "<table border=\"1\" class=\"dataframe\">\n",
       "  <thead>\n",
       "    <tr>\n",
       "      <th></th>\n",
       "      <th>country</th>\n",
       "      <th>generation</th>\n",
       "      <th>Time_step</th>\n",
       "      <th colspan=\"6\" halign=\"left\">seq_generation</th>\n",
       "      <th colspan=\"6\" halign=\"left\">seq_Time_step</th>\n",
       "      <th>end_of_Time_step</th>\n",
       "    </tr>\n",
       "    <tr>\n",
       "      <th></th>\n",
       "      <th></th>\n",
       "      <th></th>\n",
       "      <th></th>\n",
       "      <th>0</th>\n",
       "      <th>1</th>\n",
       "      <th>2</th>\n",
       "      <th>3</th>\n",
       "      <th>4</th>\n",
       "      <th>5</th>\n",
       "      <th>0</th>\n",
       "      <th>1</th>\n",
       "      <th>2</th>\n",
       "      <th>3</th>\n",
       "      <th>4</th>\n",
       "      <th>5</th>\n",
       "      <th></th>\n",
       "    </tr>\n",
       "  </thead>\n",
       "  <tbody>\n",
       "    <tr>\n",
       "      <th>0</th>\n",
       "      <td>RS</td>\n",
       "      <td>0.066365</td>\n",
       "      <td>9</td>\n",
       "      <td>0.000000</td>\n",
       "      <td>0.000000</td>\n",
       "      <td>0.000000</td>\n",
       "      <td>0.00000</td>\n",
       "      <td>0.000000</td>\n",
       "      <td>0.035935</td>\n",
       "      <td>3</td>\n",
       "      <td>4</td>\n",
       "      <td>5</td>\n",
       "      <td>6</td>\n",
       "      <td>7</td>\n",
       "      <td>8</td>\n",
       "      <td>8</td>\n",
       "    </tr>\n",
       "    <tr>\n",
       "      <th>1</th>\n",
       "      <td>RS</td>\n",
       "      <td>0.000000</td>\n",
       "      <td>16</td>\n",
       "      <td>0.066365</td>\n",
       "      <td>0.088595</td>\n",
       "      <td>0.083035</td>\n",
       "      <td>0.09524</td>\n",
       "      <td>0.090335</td>\n",
       "      <td>0.071625</td>\n",
       "      <td>9</td>\n",
       "      <td>10</td>\n",
       "      <td>11</td>\n",
       "      <td>12</td>\n",
       "      <td>13</td>\n",
       "      <td>14</td>\n",
       "      <td>14</td>\n",
       "    </tr>\n",
       "  </tbody>\n",
       "</table>\n",
       "</div>"
      ],
      "text/plain": [
       "  country generation Time_step seq_generation                               \\\n",
       "                                            0         1         2        3   \n",
       "0      RS   0.066365         9       0.000000  0.000000  0.000000  0.00000   \n",
       "1      RS   0.000000        16       0.066365  0.088595  0.083035  0.09524   \n",
       "\n",
       "                      seq_Time_step                     end_of_Time_step  \n",
       "          4         5             0   1   2   3   4   5                   \n",
       "0  0.000000  0.035935             3   4   5   6   7   8                8  \n",
       "1  0.090335  0.071625             9  10  11  12  13  14               14  "
      ]
     },
     "execution_count": 10,
     "metadata": {},
     "output_type": "execute_result"
    }
   ],
   "source": [
    "batch.head(2)"
   ]
  },
  {
   "cell_type": "markdown",
   "metadata": {},
   "source": [
    "### Sequence and Forecast horizon features"
   ]
  },
  {
   "cell_type": "code",
   "execution_count": 11,
   "metadata": {},
   "outputs": [],
   "source": [
    "from timeserio.pipeline import Pipeline\n",
    "from timeserio.preprocessing import PandasColumnSelector, PandasValueSelector\n",
    "\n",
    "class ColumnDifferenceValues:\n",
    "    \"\"\"Compute difference feature of two columns\"\"\"\n",
    "    def __init__(self, *, col_plus, col_minus):\n",
    "        self.col_plus = col_plus\n",
    "        self.col_minus = col_minus\n",
    "    \n",
    "    def fit(self, *args, **kwargs):\n",
    "        return self\n",
    "    \n",
    "    def fit_transform(self, df, *args, **kwargs):\n",
    "        return self.transform(df, *args, **kwargs)\n",
    "\n",
    "    def transform(self, df, *args, **kwargs):\n",
    "        return (df[self.col_plus] - df[self.col_minus]).values.reshape(-1, 1)\n",
    "\n",
    "    \n",
    "seq_pipeline = PandasValueSelector(\"seq_generation\")\n",
    "fc_horizon_pipeline = ColumnDifferenceValues(col_plus=\"Time_step\", col_minus=\"end_of_Time_step\")\n",
    "target_pipeline = PandasValueSelector(\"generation\")"
   ]
  },
  {
   "cell_type": "markdown",
   "metadata": {},
   "source": [
    "### Define the Neural Network Architecture\n",
    "\n",
    "We define a regression network with two inputs: sequence of previous readings, and the forecast horizon"
   ]
  },
  {
   "cell_type": "code",
   "execution_count": 19,
   "metadata": {},
   "outputs": [],
   "source": [
    "from timeserio.keras.multinetwork import MultiNetworkBase\n",
    "\n",
    "from keras.layers import Input, Dense, Flatten, Concatenate, Reshape, Permute, Conv1D, BatchNormalization, MaxPool1D, Activation\n",
    "from keras.models import Model\n",
    "from keras.optimizers import Adam\n",
    "from keras.callbacks import EarlyStopping, ReduceLROnPlateau\n",
    "\n",
    "class ARForecastingNetwork(MultiNetworkBase):\n",
    "    def _model(\n",
    "        self,\n",
    "        *,\n",
    "        seq_length=6,  # number of real-valued features\n",
    "        filters=(1, ),\n",
    "        kernel_sizes=(1, ),\n",
    "        strides=(1, ),\n",
    "        pools=(1, ),\n",
    "        hidden_units=(8, 8),\n",
    "        lr=0.01\n",
    "    ):\n",
    "        horizon_input = Input(shape=(1,), name='horizon')\n",
    "        seq_input = Input(shape=(seq_length,), name='sequence')\n",
    "        encoding = Reshape(\n",
    "            target_shape=(-1, 1)\n",
    "        )(seq_input)\n",
    "                \n",
    "        for idx, (_filters, _kernel_size, _strides, _pool) in enumerate(zip(filters, kernel_sizes, strides, pools)):\n",
    "            encoding = Conv1D(filters=_filters, kernel_size=_kernel_size, strides=_strides, padding=\"same\", name=f\"conv_{idx}\")(encoding)\n",
    "            encoding = BatchNormalization()(encoding)\n",
    "            encoding = Activation(activation='relu')(encoding)\n",
    "            encoding = MaxPool1D(pool_size=_pool)(encoding)\n",
    "        encoding = Flatten()(encoding)\n",
    "\n",
    "        output = Concatenate(name='concatenate')([encoding, horizon_input])\n",
    "        for idx, _hidden_units in enumerate(hidden_units):\n",
    "            output = Dense(_hidden_units, activation='relu', name=f'dense_{idx}')(output)\n",
    "        output = Dense(1, name='generation', activation='relu')(output)\n",
    "        \n",
    "        encoding_model = Model(seq_input, encoding)\n",
    "        forecasting_model = Model([seq_input, horizon_input], output)\n",
    "        \n",
    "        optimizer = Adam(lr=lr)\n",
    "        forecasting_model.compile(optimizer=optimizer, loss='mse', metrics=['mae'])\n",
    "        \n",
    "        return {'encoder': encoding_model, 'forecast': forecasting_model}\n",
    "\n",
    "    \n",
    "multinetwork = ARForecastingNetwork(seq_length=6, lr=0.001)"
   ]
  },
  {
   "cell_type": "code",
   "execution_count": 20,
   "metadata": {},
   "outputs": [],
   "source": [
    "from keras.utils.vis_utils import model_to_dot\n",
    "from IPython.display import SVG\n",
    "\n",
    "def vis_model(model, show_shapes=False, show_layer_names=True, rankdir='TB'):\n",
    "    \"\"\"Visualize model in a notebook.\"\"\"\n",
    "    return SVG(\n",
    "        model_to_dot(\n",
    "            model, show_shapes=show_shapes, show_layer_names=show_layer_names, rankdir=rankdir\n",
    "        ).create(prog='dot', format='svg')\n",
    "    )"
   ]
  },
  {
   "cell_type": "code",
   "execution_count": 21,
   "metadata": {},
   "outputs": [
    {
     "data": {
      "image/svg+xml": [
       "<svg height=\"166pt\" viewBox=\"0.00 0.00 2230.00 166.00\" width=\"2230pt\" xmlns=\"http://www.w3.org/2000/svg\" xmlns:xlink=\"http://www.w3.org/1999/xlink\">\n",
       "<g class=\"graph\" id=\"graph0\" transform=\"scale(1 1) rotate(0) translate(4 162)\">\n",
       "<title>G</title>\n",
       "<polygon fill=\"#ffffff\" points=\"-4,4 -4,-162 2226,-162 2226,4 -4,4\" stroke=\"transparent\"/>\n",
       "<!-- 139771994230344 -->\n",
       "<g class=\"node\" id=\"node1\">\n",
       "<title>139771994230344</title>\n",
       "<polygon fill=\"none\" points=\"0,-88.5 0,-157.5 138,-157.5 138,-88.5 0,-88.5\" stroke=\"#000000\"/>\n",
       "<text fill=\"#000000\" font-family=\"Times,serif\" font-size=\"14.00\" text-anchor=\"middle\" x=\"69\" y=\"-142.3\">sequence: InputLayer</text>\n",
       "<polyline fill=\"none\" points=\"0,-134.5 138,-134.5 \" stroke=\"#000000\"/>\n",
       "<text fill=\"#000000\" font-family=\"Times,serif\" font-size=\"14.00\" text-anchor=\"middle\" x=\"32.5\" y=\"-119.3\">input:</text>\n",
       "<polyline fill=\"none\" points=\"65,-111.5 65,-134.5 \" stroke=\"#000000\"/>\n",
       "<text fill=\"#000000\" font-family=\"Times,serif\" font-size=\"14.00\" text-anchor=\"middle\" x=\"101.5\" y=\"-119.3\">output:</text>\n",
       "<polyline fill=\"none\" points=\"0,-111.5 138,-111.5 \" stroke=\"#000000\"/>\n",
       "<text fill=\"#000000\" font-family=\"Times,serif\" font-size=\"14.00\" text-anchor=\"middle\" x=\"34.5\" y=\"-96.3\">(None, 6)</text>\n",
       "<polyline fill=\"none\" points=\"69,-88.5 69,-111.5 \" stroke=\"#000000\"/>\n",
       "<text fill=\"#000000\" font-family=\"Times,serif\" font-size=\"14.00\" text-anchor=\"middle\" x=\"103.5\" y=\"-96.3\">(None, 6)</text>\n",
       "</g>\n",
       "<!-- 139770585812888 -->\n",
       "<g class=\"node\" id=\"node2\">\n",
       "<title>139770585812888</title>\n",
       "<polygon fill=\"none\" points=\"174,-88.5 174,-157.5 326,-157.5 326,-88.5 174,-88.5\" stroke=\"#000000\"/>\n",
       "<text fill=\"#000000\" font-family=\"Times,serif\" font-size=\"14.00\" text-anchor=\"middle\" x=\"250\" y=\"-142.3\">reshape_3: Reshape</text>\n",
       "<polyline fill=\"none\" points=\"174,-134.5 326,-134.5 \" stroke=\"#000000\"/>\n",
       "<text fill=\"#000000\" font-family=\"Times,serif\" font-size=\"14.00\" text-anchor=\"middle\" x=\"210\" y=\"-119.3\">input:</text>\n",
       "<polyline fill=\"none\" points=\"246,-111.5 246,-134.5 \" stroke=\"#000000\"/>\n",
       "<text fill=\"#000000\" font-family=\"Times,serif\" font-size=\"14.00\" text-anchor=\"middle\" x=\"286\" y=\"-119.3\">output:</text>\n",
       "<polyline fill=\"none\" points=\"174,-111.5 326,-111.5 \" stroke=\"#000000\"/>\n",
       "<text fill=\"#000000\" font-family=\"Times,serif\" font-size=\"14.00\" text-anchor=\"middle\" x=\"208.5\" y=\"-96.3\">(None, 6)</text>\n",
       "<polyline fill=\"none\" points=\"243,-88.5 243,-111.5 \" stroke=\"#000000\"/>\n",
       "<text fill=\"#000000\" font-family=\"Times,serif\" font-size=\"14.00\" text-anchor=\"middle\" x=\"284.5\" y=\"-96.3\">(None, 6, 1)</text>\n",
       "</g>\n",
       "<!-- 139771994230344&#45;&gt;139770585812888 -->\n",
       "<g class=\"edge\" id=\"edge1\">\n",
       "<title>139771994230344-&gt;139770585812888</title>\n",
       "<path d=\"M138.2031,-123C146.5956,-123 155.2471,-123 163.8461,-123\" fill=\"none\" stroke=\"#000000\"/>\n",
       "<polygon fill=\"#000000\" points=\"163.898,-126.5001 173.8979,-123 163.8979,-119.5001 163.898,-126.5001\" stroke=\"#000000\"/>\n",
       "</g>\n",
       "<!-- 139770585811824 -->\n",
       "<g class=\"node\" id=\"node3\">\n",
       "<title>139770585811824</title>\n",
       "<polygon fill=\"none\" points=\"362,-88.5 362,-157.5 528,-157.5 528,-88.5 362,-88.5\" stroke=\"#000000\"/>\n",
       "<text fill=\"#000000\" font-family=\"Times,serif\" font-size=\"14.00\" text-anchor=\"middle\" x=\"445\" y=\"-142.3\">conv_0: Conv1D</text>\n",
       "<polyline fill=\"none\" points=\"362,-134.5 528,-134.5 \" stroke=\"#000000\"/>\n",
       "<text fill=\"#000000\" font-family=\"Times,serif\" font-size=\"14.00\" text-anchor=\"middle\" x=\"401.5\" y=\"-119.3\">input:</text>\n",
       "<polyline fill=\"none\" points=\"441,-111.5 441,-134.5 \" stroke=\"#000000\"/>\n",
       "<text fill=\"#000000\" font-family=\"Times,serif\" font-size=\"14.00\" text-anchor=\"middle\" x=\"484.5\" y=\"-119.3\">output:</text>\n",
       "<polyline fill=\"none\" points=\"362,-111.5 528,-111.5 \" stroke=\"#000000\"/>\n",
       "<text fill=\"#000000\" font-family=\"Times,serif\" font-size=\"14.00\" text-anchor=\"middle\" x=\"403.5\" y=\"-96.3\">(None, 6, 1)</text>\n",
       "<polyline fill=\"none\" points=\"445,-88.5 445,-111.5 \" stroke=\"#000000\"/>\n",
       "<text fill=\"#000000\" font-family=\"Times,serif\" font-size=\"14.00\" text-anchor=\"middle\" x=\"486.5\" y=\"-96.3\">(None, 6, 1)</text>\n",
       "</g>\n",
       "<!-- 139770585812888&#45;&gt;139770585811824 -->\n",
       "<g class=\"edge\" id=\"edge2\">\n",
       "<title>139770585812888-&gt;139770585811824</title>\n",
       "<path d=\"M326.2299,-123C334.5076,-123 343.0003,-123 351.4534,-123\" fill=\"none\" stroke=\"#000000\"/>\n",
       "<polygon fill=\"#000000\" points=\"351.7275,-126.5001 361.7274,-123 351.7274,-119.5001 351.7275,-126.5001\" stroke=\"#000000\"/>\n",
       "</g>\n",
       "<!-- 139770585812720 -->\n",
       "<g class=\"node\" id=\"node4\">\n",
       "<title>139770585812720</title>\n",
       "<polygon fill=\"none\" points=\"564,-88.5 564,-157.5 824,-157.5 824,-88.5 564,-88.5\" stroke=\"#000000\"/>\n",
       "<text fill=\"#000000\" font-family=\"Times,serif\" font-size=\"14.00\" text-anchor=\"middle\" x=\"694\" y=\"-142.3\">batch_normalization_3: BatchNormalization</text>\n",
       "<polyline fill=\"none\" points=\"564,-134.5 824,-134.5 \" stroke=\"#000000\"/>\n",
       "<text fill=\"#000000\" font-family=\"Times,serif\" font-size=\"14.00\" text-anchor=\"middle\" x=\"627\" y=\"-119.3\">input:</text>\n",
       "<polyline fill=\"none\" points=\"690,-111.5 690,-134.5 \" stroke=\"#000000\"/>\n",
       "<text fill=\"#000000\" font-family=\"Times,serif\" font-size=\"14.00\" text-anchor=\"middle\" x=\"757\" y=\"-119.3\">output:</text>\n",
       "<polyline fill=\"none\" points=\"564,-111.5 824,-111.5 \" stroke=\"#000000\"/>\n",
       "<text fill=\"#000000\" font-family=\"Times,serif\" font-size=\"14.00\" text-anchor=\"middle\" x=\"629\" y=\"-96.3\">(None, 6, 1)</text>\n",
       "<polyline fill=\"none\" points=\"694,-88.5 694,-111.5 \" stroke=\"#000000\"/>\n",
       "<text fill=\"#000000\" font-family=\"Times,serif\" font-size=\"14.00\" text-anchor=\"middle\" x=\"759\" y=\"-96.3\">(None, 6, 1)</text>\n",
       "</g>\n",
       "<!-- 139770585811824&#45;&gt;139770585812720 -->\n",
       "<g class=\"edge\" id=\"edge3\">\n",
       "<title>139770585811824-&gt;139770585812720</title>\n",
       "<path d=\"M528.2596,-123C536.4905,-123 544.9925,-123 553.5976,-123\" fill=\"none\" stroke=\"#000000\"/>\n",
       "<polygon fill=\"#000000\" points=\"553.7365,-126.5001 563.7364,-123 553.7364,-119.5001 553.7365,-126.5001\" stroke=\"#000000\"/>\n",
       "</g>\n",
       "<!-- 139770585810872 -->\n",
       "<g class=\"node\" id=\"node5\">\n",
       "<title>139770585810872</title>\n",
       "<polygon fill=\"none\" points=\"860,-88.5 860,-157.5 1026,-157.5 1026,-88.5 860,-88.5\" stroke=\"#000000\"/>\n",
       "<text fill=\"#000000\" font-family=\"Times,serif\" font-size=\"14.00\" text-anchor=\"middle\" x=\"943\" y=\"-142.3\">activation_3: Activation</text>\n",
       "<polyline fill=\"none\" points=\"860,-134.5 1026,-134.5 \" stroke=\"#000000\"/>\n",
       "<text fill=\"#000000\" font-family=\"Times,serif\" font-size=\"14.00\" text-anchor=\"middle\" x=\"899.5\" y=\"-119.3\">input:</text>\n",
       "<polyline fill=\"none\" points=\"939,-111.5 939,-134.5 \" stroke=\"#000000\"/>\n",
       "<text fill=\"#000000\" font-family=\"Times,serif\" font-size=\"14.00\" text-anchor=\"middle\" x=\"982.5\" y=\"-119.3\">output:</text>\n",
       "<polyline fill=\"none\" points=\"860,-111.5 1026,-111.5 \" stroke=\"#000000\"/>\n",
       "<text fill=\"#000000\" font-family=\"Times,serif\" font-size=\"14.00\" text-anchor=\"middle\" x=\"901.5\" y=\"-96.3\">(None, 6, 1)</text>\n",
       "<polyline fill=\"none\" points=\"943,-88.5 943,-111.5 \" stroke=\"#000000\"/>\n",
       "<text fill=\"#000000\" font-family=\"Times,serif\" font-size=\"14.00\" text-anchor=\"middle\" x=\"984.5\" y=\"-96.3\">(None, 6, 1)</text>\n",
       "</g>\n",
       "<!-- 139770585812720&#45;&gt;139770585810872 -->\n",
       "<g class=\"edge\" id=\"edge4\">\n",
       "<title>139770585812720-&gt;139770585810872</title>\n",
       "<path d=\"M824.334,-123C832.8668,-123 841.3629,-123 849.6616,-123\" fill=\"none\" stroke=\"#000000\"/>\n",
       "<polygon fill=\"#000000\" points=\"849.6755,-126.5001 859.6755,-123 849.6754,-119.5001 849.6755,-126.5001\" stroke=\"#000000\"/>\n",
       "</g>\n",
       "<!-- 139770584937024 -->\n",
       "<g class=\"node\" id=\"node6\">\n",
       "<title>139770584937024</title>\n",
       "<polygon fill=\"none\" points=\"1062,-88.5 1062,-157.5 1269,-157.5 1269,-88.5 1062,-88.5\" stroke=\"#000000\"/>\n",
       "<text fill=\"#000000\" font-family=\"Times,serif\" font-size=\"14.00\" text-anchor=\"middle\" x=\"1165.5\" y=\"-142.3\">max_pooling1d_3: MaxPooling1D</text>\n",
       "<polyline fill=\"none\" points=\"1062,-134.5 1269,-134.5 \" stroke=\"#000000\"/>\n",
       "<text fill=\"#000000\" font-family=\"Times,serif\" font-size=\"14.00\" text-anchor=\"middle\" x=\"1112\" y=\"-119.3\">input:</text>\n",
       "<polyline fill=\"none\" points=\"1162,-111.5 1162,-134.5 \" stroke=\"#000000\"/>\n",
       "<text fill=\"#000000\" font-family=\"Times,serif\" font-size=\"14.00\" text-anchor=\"middle\" x=\"1215.5\" y=\"-119.3\">output:</text>\n",
       "<polyline fill=\"none\" points=\"1062,-111.5 1269,-111.5 \" stroke=\"#000000\"/>\n",
       "<text fill=\"#000000\" font-family=\"Times,serif\" font-size=\"14.00\" text-anchor=\"middle\" x=\"1113.5\" y=\"-96.3\">(None, 6, 1)</text>\n",
       "<polyline fill=\"none\" points=\"1165,-88.5 1165,-111.5 \" stroke=\"#000000\"/>\n",
       "<text fill=\"#000000\" font-family=\"Times,serif\" font-size=\"14.00\" text-anchor=\"middle\" x=\"1217\" y=\"-96.3\">(None, 6, 1)</text>\n",
       "</g>\n",
       "<!-- 139770585810872&#45;&gt;139770584937024 -->\n",
       "<g class=\"edge\" id=\"edge5\">\n",
       "<title>139770585810872-&gt;139770584937024</title>\n",
       "<path d=\"M1026.1672,-123C1034.5067,-123 1043.0714,-123 1051.6568,-123\" fill=\"none\" stroke=\"#000000\"/>\n",
       "<polygon fill=\"#000000\" points=\"1051.7324,-126.5001 1061.7324,-123 1051.7324,-119.5001 1051.7324,-126.5001\" stroke=\"#000000\"/>\n",
       "</g>\n",
       "<!-- 139770585809528 -->\n",
       "<g class=\"node\" id=\"node7\">\n",
       "<title>139770585809528</title>\n",
       "<polygon fill=\"none\" points=\"1305,-88.5 1305,-157.5 1457,-157.5 1457,-88.5 1305,-88.5\" stroke=\"#000000\"/>\n",
       "<text fill=\"#000000\" font-family=\"Times,serif\" font-size=\"14.00\" text-anchor=\"middle\" x=\"1381\" y=\"-142.3\">flatten_3: Flatten</text>\n",
       "<polyline fill=\"none\" points=\"1305,-134.5 1457,-134.5 \" stroke=\"#000000\"/>\n",
       "<text fill=\"#000000\" font-family=\"Times,serif\" font-size=\"14.00\" text-anchor=\"middle\" x=\"1341\" y=\"-119.3\">input:</text>\n",
       "<polyline fill=\"none\" points=\"1377,-111.5 1377,-134.5 \" stroke=\"#000000\"/>\n",
       "<text fill=\"#000000\" font-family=\"Times,serif\" font-size=\"14.00\" text-anchor=\"middle\" x=\"1417\" y=\"-119.3\">output:</text>\n",
       "<polyline fill=\"none\" points=\"1305,-111.5 1457,-111.5 \" stroke=\"#000000\"/>\n",
       "<text fill=\"#000000\" font-family=\"Times,serif\" font-size=\"14.00\" text-anchor=\"middle\" x=\"1346.5\" y=\"-96.3\">(None, 6, 1)</text>\n",
       "<polyline fill=\"none\" points=\"1388,-88.5 1388,-111.5 \" stroke=\"#000000\"/>\n",
       "<text fill=\"#000000\" font-family=\"Times,serif\" font-size=\"14.00\" text-anchor=\"middle\" x=\"1422.5\" y=\"-96.3\">(None, 6)</text>\n",
       "</g>\n",
       "<!-- 139770584937024&#45;&gt;139770585809528 -->\n",
       "<g class=\"edge\" id=\"edge6\">\n",
       "<title>139770584937024-&gt;139770585809528</title>\n",
       "<path d=\"M1269.1471,-123C1277.7328,-123 1286.3533,-123 1294.7901,-123\" fill=\"none\" stroke=\"#000000\"/>\n",
       "<polygon fill=\"#000000\" points=\"1294.9754,-126.5001 1304.9754,-123 1294.9754,-119.5001 1294.9754,-126.5001\" stroke=\"#000000\"/>\n",
       "</g>\n",
       "<!-- 139770585375800 -->\n",
       "<g class=\"node\" id=\"node9\">\n",
       "<title>139770585375800</title>\n",
       "<polygon fill=\"none\" points=\"1493,-44.5 1493,-113.5 1700,-113.5 1700,-44.5 1493,-44.5\" stroke=\"#000000\"/>\n",
       "<text fill=\"#000000\" font-family=\"Times,serif\" font-size=\"14.00\" text-anchor=\"middle\" x=\"1596.5\" y=\"-98.3\">concatenate: Concatenate</text>\n",
       "<polyline fill=\"none\" points=\"1493,-90.5 1700,-90.5 \" stroke=\"#000000\"/>\n",
       "<text fill=\"#000000\" font-family=\"Times,serif\" font-size=\"14.00\" text-anchor=\"middle\" x=\"1543\" y=\"-75.3\">input:</text>\n",
       "<polyline fill=\"none\" points=\"1593,-67.5 1593,-90.5 \" stroke=\"#000000\"/>\n",
       "<text fill=\"#000000\" font-family=\"Times,serif\" font-size=\"14.00\" text-anchor=\"middle\" x=\"1646.5\" y=\"-75.3\">output:</text>\n",
       "<polyline fill=\"none\" points=\"1493,-67.5 1700,-67.5 \" stroke=\"#000000\"/>\n",
       "<text fill=\"#000000\" font-family=\"Times,serif\" font-size=\"14.00\" text-anchor=\"middle\" x=\"1562\" y=\"-52.3\">[(None, 6), (None, 1)]</text>\n",
       "<polyline fill=\"none\" points=\"1631,-44.5 1631,-67.5 \" stroke=\"#000000\"/>\n",
       "<text fill=\"#000000\" font-family=\"Times,serif\" font-size=\"14.00\" text-anchor=\"middle\" x=\"1665.5\" y=\"-52.3\">(None, 7)</text>\n",
       "</g>\n",
       "<!-- 139770585809528&#45;&gt;139770585375800 -->\n",
       "<g class=\"edge\" id=\"edge7\">\n",
       "<title>139770585809528-&gt;139770585375800</title>\n",
       "<path d=\"M1457.2805,-107.4253C1465.6378,-105.719 1474.272,-103.9561 1482.9565,-102.1829\" fill=\"none\" stroke=\"#000000\"/>\n",
       "<polygon fill=\"#000000\" points=\"1483.6733,-105.6088 1492.7709,-100.179 1482.2729,-98.7503 1483.6733,-105.6088\" stroke=\"#000000\"/>\n",
       "</g>\n",
       "<!-- 139771994164472 -->\n",
       "<g class=\"node\" id=\"node8\">\n",
       "<title>139771994164472</title>\n",
       "<polygon fill=\"none\" points=\"1312,-.5 1312,-69.5 1450,-69.5 1450,-.5 1312,-.5\" stroke=\"#000000\"/>\n",
       "<text fill=\"#000000\" font-family=\"Times,serif\" font-size=\"14.00\" text-anchor=\"middle\" x=\"1381\" y=\"-54.3\">horizon: InputLayer</text>\n",
       "<polyline fill=\"none\" points=\"1312,-46.5 1450,-46.5 \" stroke=\"#000000\"/>\n",
       "<text fill=\"#000000\" font-family=\"Times,serif\" font-size=\"14.00\" text-anchor=\"middle\" x=\"1344.5\" y=\"-31.3\">input:</text>\n",
       "<polyline fill=\"none\" points=\"1377,-23.5 1377,-46.5 \" stroke=\"#000000\"/>\n",
       "<text fill=\"#000000\" font-family=\"Times,serif\" font-size=\"14.00\" text-anchor=\"middle\" x=\"1413.5\" y=\"-31.3\">output:</text>\n",
       "<polyline fill=\"none\" points=\"1312,-23.5 1450,-23.5 \" stroke=\"#000000\"/>\n",
       "<text fill=\"#000000\" font-family=\"Times,serif\" font-size=\"14.00\" text-anchor=\"middle\" x=\"1346.5\" y=\"-8.3\">(None, 1)</text>\n",
       "<polyline fill=\"none\" points=\"1381,-.5 1381,-23.5 \" stroke=\"#000000\"/>\n",
       "<text fill=\"#000000\" font-family=\"Times,serif\" font-size=\"14.00\" text-anchor=\"middle\" x=\"1415.5\" y=\"-8.3\">(None, 1)</text>\n",
       "</g>\n",
       "<!-- 139771994164472&#45;&gt;139770585375800 -->\n",
       "<g class=\"edge\" id=\"edge8\">\n",
       "<title>139771994164472-&gt;139770585375800</title>\n",
       "<path d=\"M1450.0748,-49.1034C1460.644,-51.2614 1471.7857,-53.5363 1483.0108,-55.8282\" fill=\"none\" stroke=\"#000000\"/>\n",
       "<polygon fill=\"#000000\" points=\"1482.3862,-59.2728 1492.8843,-57.8441 1483.7866,-52.4143 1482.3862,-59.2728\" stroke=\"#000000\"/>\n",
       "</g>\n",
       "<!-- 139770585810200 -->\n",
       "<g class=\"node\" id=\"node10\">\n",
       "<title>139770585810200</title>\n",
       "<polygon fill=\"none\" points=\"1736,-44.5 1736,-113.5 1874,-113.5 1874,-44.5 1736,-44.5\" stroke=\"#000000\"/>\n",
       "<text fill=\"#000000\" font-family=\"Times,serif\" font-size=\"14.00\" text-anchor=\"middle\" x=\"1805\" y=\"-98.3\">dense_0: Dense</text>\n",
       "<polyline fill=\"none\" points=\"1736,-90.5 1874,-90.5 \" stroke=\"#000000\"/>\n",
       "<text fill=\"#000000\" font-family=\"Times,serif\" font-size=\"14.00\" text-anchor=\"middle\" x=\"1768.5\" y=\"-75.3\">input:</text>\n",
       "<polyline fill=\"none\" points=\"1801,-67.5 1801,-90.5 \" stroke=\"#000000\"/>\n",
       "<text fill=\"#000000\" font-family=\"Times,serif\" font-size=\"14.00\" text-anchor=\"middle\" x=\"1837.5\" y=\"-75.3\">output:</text>\n",
       "<polyline fill=\"none\" points=\"1736,-67.5 1874,-67.5 \" stroke=\"#000000\"/>\n",
       "<text fill=\"#000000\" font-family=\"Times,serif\" font-size=\"14.00\" text-anchor=\"middle\" x=\"1770.5\" y=\"-52.3\">(None, 7)</text>\n",
       "<polyline fill=\"none\" points=\"1805,-44.5 1805,-67.5 \" stroke=\"#000000\"/>\n",
       "<text fill=\"#000000\" font-family=\"Times,serif\" font-size=\"14.00\" text-anchor=\"middle\" x=\"1839.5\" y=\"-52.3\">(None, 8)</text>\n",
       "</g>\n",
       "<!-- 139770585375800&#45;&gt;139770585810200 -->\n",
       "<g class=\"edge\" id=\"edge9\">\n",
       "<title>139770585375800-&gt;139770585810200</title>\n",
       "<path d=\"M1700.1392,-79C1708.7857,-79 1717.4378,-79 1725.8576,-79\" fill=\"none\" stroke=\"#000000\"/>\n",
       "<polygon fill=\"#000000\" points=\"1725.9967,-82.5001 1735.9967,-79 1725.9966,-75.5001 1725.9967,-82.5001\" stroke=\"#000000\"/>\n",
       "</g>\n",
       "<!-- 139770586149104 -->\n",
       "<g class=\"node\" id=\"node11\">\n",
       "<title>139770586149104</title>\n",
       "<polygon fill=\"none\" points=\"1910,-44.5 1910,-113.5 2048,-113.5 2048,-44.5 1910,-44.5\" stroke=\"#000000\"/>\n",
       "<text fill=\"#000000\" font-family=\"Times,serif\" font-size=\"14.00\" text-anchor=\"middle\" x=\"1979\" y=\"-98.3\">dense_1: Dense</text>\n",
       "<polyline fill=\"none\" points=\"1910,-90.5 2048,-90.5 \" stroke=\"#000000\"/>\n",
       "<text fill=\"#000000\" font-family=\"Times,serif\" font-size=\"14.00\" text-anchor=\"middle\" x=\"1942.5\" y=\"-75.3\">input:</text>\n",
       "<polyline fill=\"none\" points=\"1975,-67.5 1975,-90.5 \" stroke=\"#000000\"/>\n",
       "<text fill=\"#000000\" font-family=\"Times,serif\" font-size=\"14.00\" text-anchor=\"middle\" x=\"2011.5\" y=\"-75.3\">output:</text>\n",
       "<polyline fill=\"none\" points=\"1910,-67.5 2048,-67.5 \" stroke=\"#000000\"/>\n",
       "<text fill=\"#000000\" font-family=\"Times,serif\" font-size=\"14.00\" text-anchor=\"middle\" x=\"1944.5\" y=\"-52.3\">(None, 8)</text>\n",
       "<polyline fill=\"none\" points=\"1979,-44.5 1979,-67.5 \" stroke=\"#000000\"/>\n",
       "<text fill=\"#000000\" font-family=\"Times,serif\" font-size=\"14.00\" text-anchor=\"middle\" x=\"2013.5\" y=\"-52.3\">(None, 8)</text>\n",
       "</g>\n",
       "<!-- 139770585810200&#45;&gt;139770586149104 -->\n",
       "<g class=\"edge\" id=\"edge10\">\n",
       "<title>139770585810200-&gt;139770586149104</title>\n",
       "<path d=\"M1874.0193,-79C1882.4757,-79 1891.1691,-79 1899.7607,-79\" fill=\"none\" stroke=\"#000000\"/>\n",
       "<polygon fill=\"#000000\" points=\"1899.7795,-82.5001 1909.7795,-79 1899.7794,-75.5001 1899.7795,-82.5001\" stroke=\"#000000\"/>\n",
       "</g>\n",
       "<!-- 139770591142744 -->\n",
       "<g class=\"node\" id=\"node12\">\n",
       "<title>139770591142744</title>\n",
       "<polygon fill=\"none\" points=\"2084,-44.5 2084,-113.5 2222,-113.5 2222,-44.5 2084,-44.5\" stroke=\"#000000\"/>\n",
       "<text fill=\"#000000\" font-family=\"Times,serif\" font-size=\"14.00\" text-anchor=\"middle\" x=\"2153\" y=\"-98.3\">generation: Dense</text>\n",
       "<polyline fill=\"none\" points=\"2084,-90.5 2222,-90.5 \" stroke=\"#000000\"/>\n",
       "<text fill=\"#000000\" font-family=\"Times,serif\" font-size=\"14.00\" text-anchor=\"middle\" x=\"2116.5\" y=\"-75.3\">input:</text>\n",
       "<polyline fill=\"none\" points=\"2149,-67.5 2149,-90.5 \" stroke=\"#000000\"/>\n",
       "<text fill=\"#000000\" font-family=\"Times,serif\" font-size=\"14.00\" text-anchor=\"middle\" x=\"2185.5\" y=\"-75.3\">output:</text>\n",
       "<polyline fill=\"none\" points=\"2084,-67.5 2222,-67.5 \" stroke=\"#000000\"/>\n",
       "<text fill=\"#000000\" font-family=\"Times,serif\" font-size=\"14.00\" text-anchor=\"middle\" x=\"2118.5\" y=\"-52.3\">(None, 8)</text>\n",
       "<polyline fill=\"none\" points=\"2153,-44.5 2153,-67.5 \" stroke=\"#000000\"/>\n",
       "<text fill=\"#000000\" font-family=\"Times,serif\" font-size=\"14.00\" text-anchor=\"middle\" x=\"2187.5\" y=\"-52.3\">(None, 1)</text>\n",
       "</g>\n",
       "<!-- 139770586149104&#45;&gt;139770591142744 -->\n",
       "<g class=\"edge\" id=\"edge11\">\n",
       "<title>139770586149104-&gt;139770591142744</title>\n",
       "<path d=\"M2048.0193,-79C2056.4757,-79 2065.1691,-79 2073.7607,-79\" fill=\"none\" stroke=\"#000000\"/>\n",
       "<polygon fill=\"#000000\" points=\"2073.7795,-82.5001 2083.7795,-79 2073.7794,-75.5001 2073.7795,-82.5001\" stroke=\"#000000\"/>\n",
       "</g>\n",
       "</g>\n",
       "</svg>"
      ],
      "text/plain": [
       "<IPython.core.display.SVG object>"
      ]
     },
     "execution_count": 21,
     "metadata": {},
     "output_type": "execute_result"
    }
   ],
   "source": [
    "vis_model(multinetwork.model[\"forecast\"], show_shapes=True, rankdir=\"LR\")"
   ]
  },
  {
   "cell_type": "markdown",
   "metadata": {},
   "source": [
    "### Connect feature pipelines to the neural network"
   ]
  },
  {
   "cell_type": "code",
   "execution_count": 22,
   "metadata": {},
   "outputs": [],
   "source": [
    "from timeserio.pipeline import MultiPipeline"
   ]
  },
  {
   "cell_type": "code",
   "execution_count": 23,
   "metadata": {},
   "outputs": [],
   "source": [
    "multipipeline = MultiPipeline({\n",
    "    \"sequence\": seq_pipeline,\n",
    "    \"horizon\": fc_horizon_pipeline,\n",
    "    \"target\": target_pipeline\n",
    "})"
   ]
  },
  {
   "cell_type": "code",
   "execution_count": 24,
   "metadata": {},
   "outputs": [],
   "source": [
    "from timeserio.multimodel import MultiModel\n",
    "\n",
    "manifold = {\n",
    "    # keras_model_name: (input_pipes, output_pipes)\n",
    "    \"encoder\": (\"sequence\", None),\n",
    "    \"forecast\": ([\"sequence\", \"horizon\"], \"target\")\n",
    "}\n",
    "\n",
    "multimodel = MultiModel(\n",
    "    multinetwork=multinetwork,\n",
    "    multipipeline=multipipeline,\n",
    "    manifold=manifold\n",
    ")"
   ]
  },
  {
   "cell_type": "markdown",
   "metadata": {},
   "source": [
    "### Fit model from the batch generator\n",
    "\n",
    "`multimodel.fit_generator()` will apply pipelines correctly to the training batch generator, and, if `validation_data` is provided in the form of another (pandas) batch generator,\n",
    "evaluate the relevant metrics. In addition, feature extraction for each batch will benefit from the `workers` parallelism."
   ]
  },
  {
   "cell_type": "code",
   "execution_count": 25,
   "metadata": {},
   "outputs": [
    {
     "data": {
      "image/png": "[encoded data removed]",
      "text/plain": [
       "<Figure size 1080x216 with 2 Axes>"
      ]
     },
     "metadata": {
      "needs_background": "light"
     },
     "output_type": "display_data"
    },
    {
     "data": {
      "text/plain": [
       "<timeserio.keras.callbacks.HistoryLogger at 0x7f1ee0cccf28>"
      ]
     },
     "execution_count": 25,
     "metadata": {},
     "output_type": "execute_result"
    }
   ],
   "source": [
    "from kerashistoryplot.callbacks import PlotHistory\n",
    "plot_callback = PlotHistory(figsize=(15, 3), n_cols=3, batches=False)\n",
    "\n",
    "multimodel.fit_generator(\n",
    "    batchgen_train, model=\"forecast\", verbose=1, epochs=50,\n",
    "    reset_weights=True,\n",
    "    workers=4,\n",
    "    callbacks=[plot_callback]\n",
    ")"
   ]
  },
  {
   "cell_type": "markdown",
   "metadata": {},
   "source": [
    "persist the model:"
   ]
  },
  {
   "cell_type": "code",
   "execution_count": 27,
   "metadata": {},
   "outputs": [],
   "source": [
    "from timeserio.utils.pickle import loadf, dumpf\n",
    "dumpf(multimodel, \"/tmp/PV_model_2.pickle\")"
   ]
  },
  {
   "cell_type": "markdown",
   "metadata": {},
   "source": [
    "### Evaluate performance on test data\n",
    "We can evaluate the model on the validation data generator, which can also be out-of-memory:"
   ]
  },
  {
   "cell_type": "code",
   "execution_count": 28,
   "metadata": {},
   "outputs": [],
   "source": [
    "batchgen_test = SequenceForecastBatchGenerator(\n",
    "    df=df_test, batch_size=2**15,\n",
    "    sequence_length=6,\n",
    "    sequence_columns=[\"generation\", \"Time_step\"],\n",
    "    last_step_columns=[\"Time_step\"],\n",
    "    forecast_steps_min=1,\n",
    "    forecast_steps_max=2,\n",
    "    batch_offset=False,\n",
    "    id_column=\"country\",\n",
    "    batch_aggregator=1\n",
    ")"
   ]
  },
  {
   "cell_type": "code",
   "execution_count": 29,
   "metadata": {},
   "outputs": [
    {
     "name": "stdout",
     "output_type": "stream",
     "text": [
      "35/35 [==============================] - 9s 254ms/step\n"
     ]
    },
    {
     "data": {
      "text/plain": [
       "[0.008467954644999866, 0.051904945554477826]"
      ]
     },
     "execution_count": 29,
     "metadata": {},
     "output_type": "execute_result"
    }
   ],
   "source": [
    "multimodel.evaluate_generator(batchgen_test, model=\"forecast\", verbose=1)"
   ]
  },
  {
   "cell_type": "markdown",
   "metadata": {},
   "source": [
    "While the model takes longer to train (and longer still with practical encoder architectures), it can be tuned to achieve higher performanec, especially if encodings are combined with datetime features."
   ]
  }
 ],
 "metadata": {
  "kernelspec": {
   "display_name": "Python 3",
   "language": "python",
   "name": "python3"
  },
  "language_info": {
   "codemirror_mode": {
    "name": "ipython",
    "version": 3
   },
   "file_extension": ".py",
   "mimetype": "text/x-python",
   "name": "python",
   "nbconvert_exporter": "python",
   "pygments_lexer": "ipython3",
   "version": "3.6.4"
  }
 },
 "nbformat": 4,
 "nbformat_minor": 2
}
